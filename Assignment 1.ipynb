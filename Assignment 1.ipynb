{
 "cells": [
  {
   "cell_type": "code",
   "execution_count": 9,
   "id": "f7bcb010-60a5-42bf-8e2f-254a7ad58403",
   "metadata": {},
   "outputs": [],
   "source": [
    "#Question 1"
   ]
  },
  {
   "cell_type": "code",
   "execution_count": 13,
   "id": "cf152644-d23b-4116-8a15-c845d92cbc5e",
   "metadata": {},
   "outputs": [
    {
     "name": "stdout",
     "output_type": "stream",
     "text": [
      "Farhan\n",
      "ShahadatHussain\n",
      "16-12-1994\n"
     ]
    }
   ],
   "source": [
    "print(\"Farhan\")\n",
    "print(\"ShahadatHussain\")\n",
    "print(\"16-12-1994\")"
   ]
  },
  {
   "cell_type": "code",
   "execution_count": null,
   "id": "d1ea0e02-8626-45e8-bb9d-063860942858",
   "metadata": {},
   "outputs": [],
   "source": [
    "#Question 2"
   ]
  },
  {
   "cell_type": "code",
   "execution_count": 16,
   "id": "d33909f2-694f-41ff-9f78-8453628b0707",
   "metadata": {},
   "outputs": [
    {
     "name": "stdin",
     "output_type": "stream",
     "text": [
      "Please write your name farhan shahadat\n",
      "Please write your father name shahadat hussain\n",
      "Please write your D.O.B 16-12-1994\n",
      "Please enter your latest education masters\n"
     ]
    },
    {
     "name": "stdout",
     "output_type": "stream",
     "text": [
      "farhan shahadat\n",
      "shahadat hussain\n",
      "16-12-1994\n",
      "masters\n"
     ]
    }
   ],
   "source": [
    "name=input(\"Please write your name\")\n",
    "f_name=input(\"Please write your father name\")\n",
    "dob=input(\"Please write your D.O.B\")\n",
    "education=input(\"Please enter your latest education\")\n",
    "print(name)\n",
    "print(f_name)\n",
    "print(dob)\n",
    "print(education)"
   ]
  },
  {
   "cell_type": "code",
   "execution_count": null,
   "id": "a5ac7387-c6c5-45e3-a5f9-ed7848304d00",
   "metadata": {},
   "outputs": [],
   "source": [
    "#Question 3"
   ]
  },
  {
   "cell_type": "code",
   "execution_count": 25,
   "id": "67858972-0023-4544-a56e-a52fb5b29a34",
   "metadata": {},
   "outputs": [
    {
     "name": "stdin",
     "output_type": "stream",
     "text": [
      "please enter any number 100\n",
      "Please enter second number 20\n"
     ]
    },
    {
     "name": "stdout",
     "output_type": "stream",
     "text": [
      "120\n",
      "80\n",
      "2000\n",
      "5.0\n"
     ]
    }
   ],
   "source": [
    "n1=int(input(\"please enter any number\"));\n",
    "n2=int(input(\"Please enter second number\"));\n",
    "result=0;\n",
    "#addition\n",
    "result= n1+n2\n",
    "print(result)\n",
    "#Subtraction\n",
    "result= n1-n2\n",
    "print(result)\n",
    "#Multiplication\n",
    "result= n1*n2\n",
    "print(result)\n",
    "#Division\n",
    "if n2!=0:\n",
    "    result= n1/n2\n",
    "    print(result)\n",
    "else:\n",
    "    print(\"Number is not divisible\")\n",
    "\n",
    "\n"
   ]
  },
  {
   "cell_type": "code",
   "execution_count": null,
   "id": "50f58b4b-bb6b-4115-9da0-5bde1da65661",
   "metadata": {},
   "outputs": [],
   "source": [
    "# Question 4"
   ]
  },
  {
   "cell_type": "code",
   "execution_count": 28,
   "id": "acc722a5-a2fa-450f-ba91-e6c278cc55ba",
   "metadata": {},
   "outputs": [
    {
     "name": "stdout",
     "output_type": "stream",
     "text": [
      "your percentage is 73.33333333333333\n"
     ]
    }
   ],
   "source": [
    "me=80\n",
    "mi=90\n",
    "mm=50\n",
    "tm=300\n",
    "percentage=0\n",
    "marks_obtained=me+mi+mm\n",
    "percetage=(marks_obtained/tm)*100\n",
    "print(\"your percentage is\", percetage)\n"
   ]
  },
  {
   "cell_type": "code",
   "execution_count": null,
   "id": "3900c1f8-ce0d-4b2c-917f-df59731b5330",
   "metadata": {},
   "outputs": [],
   "source": [
    "# Question 5"
   ]
  },
  {
   "cell_type": "code",
   "execution_count": 30,
   "id": "1f7b9447-4073-4454-b75f-830cfcfe33b4",
   "metadata": {},
   "outputs": [
    {
     "name": "stdin",
     "output_type": "stream",
     "text": [
      "Please input your salary 92000\n",
      "please enter years of service 6\n"
     ]
    },
    {
     "name": "stdout",
     "output_type": "stream",
     "text": [
      "4600.0\n"
     ]
    }
   ],
   "source": [
    "salary=int(input(\"Please input your salary\"))\n",
    "year_of_service=int(input(\"please enter years of service\"))\n",
    "bonus=0\n",
    "\n",
    "if year_of_service>5:\n",
    "    bonus=(salary*5)/100\n",
    "    print(bonus)\n",
    "else:\n",
    "    print(\"year of service is less than 5 years\")"
   ]
  },
  {
   "cell_type": "code",
   "execution_count": 31,
   "id": "cc37f237-6866-4457-b139-a0426b44df73",
   "metadata": {},
   "outputs": [
    {
     "name": "stdin",
     "output_type": "stream",
     "text": [
      "Please enter your age 20\n"
     ]
    },
    {
     "name": "stdout",
     "output_type": "stream",
     "text": [
      "you are eligible to print\n"
     ]
    }
   ],
   "source": [
    "# Question \n",
    "#Write a program to check whether a person is eligible for voting or not. (accept age from user) if age is greater than 17 eligible otherwise not eligible\"\n",
    "age=int(input(\"Please enter your age\"))\n",
    "if age > 17:\n",
    "    print(\"you are eligible to vote\")\n",
    "else:\n",
    "    print(\"you are not eligible\")\n",
    "    \n",
    "    "
   ]
  },
  {
   "cell_type": "code",
   "execution_count": 34,
   "id": "abff51e6-6509-48ae-914b-e69ee7be2c04",
   "metadata": {},
   "outputs": [
    {
     "name": "stdin",
     "output_type": "stream",
     "text": [
      "Enter any number:  20\n"
     ]
    },
    {
     "name": "stdout",
     "output_type": "stream",
     "text": [
      "Number is even\n"
     ]
    }
   ],
   "source": [
    "# Program to check whether a number is even or odd\n",
    "number = int(input(\"Enter any number: \"))\n",
    "\n",
    "if number % 2 == 0:\n",
    "    print(\"Number is even\")\n",
    "else:\n",
    "    print(\"Number is odd\")\n"
   ]
  },
  {
   "cell_type": "code",
   "execution_count": 36,
   "id": "7a1c95cc-efae-4dea-96aa-41dab45e9e9a",
   "metadata": {},
   "outputs": [
    {
     "name": "stdin",
     "output_type": "stream",
     "text": [
      "Enter any number:  2\n"
     ]
    },
    {
     "name": "stdout",
     "output_type": "stream",
     "text": [
      "The number is not divisible by 7\n"
     ]
    }
   ],
   "source": [
    "# Program to check whether a number is divisible by 7 or not\n",
    "\n",
    "number = int(input(\"Enter any number: \"))\n",
    "\n",
    "if number % 7 == 0:\n",
    "    print(\"The number is divisible by 7\")\n",
    "else:\n",
    "    print(\"The number is not divisible by 7\")\n"
   ]
  },
  {
   "cell_type": "code",
   "execution_count": 37,
   "id": "6c9e87a4-c6f5-4cac-90eb-30ecd67d805b",
   "metadata": {},
   "outputs": [
    {
     "name": "stdin",
     "output_type": "stream",
     "text": [
      "Enter any number:  6\n"
     ]
    },
    {
     "name": "stdout",
     "output_type": "stream",
     "text": [
      "Bye\n"
     ]
    }
   ],
   "source": [
    "# Write a program to display \\n\",\n",
    "   # \"\\\"Hello\\\" if a number entered by user is a multiple of five , otherwise print \\\"Bye\\\n",
    "# Program to display \"Hello\" if number is a multiple of 5, otherwise \"Bye\"\n",
    "\n",
    "number = int(input(\"Enter any number: \"))\n",
    "\n",
    "if number % 5 == 0:\n",
    "    print(\"Hello\")\n",
    "else:\n",
    "    print(\"Bye\")\n"
   ]
  },
  {
   "cell_type": "code",
   "execution_count": 40,
   "id": "94da7988-948b-4b9c-9d51-9be6ed1fcea9",
   "metadata": {},
   "outputs": [
    {
     "name": "stdin",
     "output_type": "stream",
     "text": [
      "Enter any number:  55\n"
     ]
    },
    {
     "name": "stdout",
     "output_type": "stream",
     "text": [
      "The last digit is: 5\n"
     ]
    }
   ],
   "source": [
    "# Program to display the last digit of a number\n",
    "\n",
    "number = int(input(\"Enter any number: \"))\n",
    "\n",
    "last_digit = number % 10\n",
    "\n",
    "print(\"The last digit is:\", last_digit)\n"
   ]
  },
  {
   "cell_type": "code",
   "execution_count": 45,
   "id": "0da93277-185a-407d-b54b-0d4e1cad55e2",
   "metadata": {},
   "outputs": [
    {
     "name": "stdin",
     "output_type": "stream",
     "text": [
      "Enter length 5\n",
      "Enter Breath 6\n"
     ]
    },
    {
     "name": "stdout",
     "output_type": "stream",
     "text": [
      "it is rectangle\n"
     ]
    }
   ],
   "source": [
    "#Take values of length and breadth of a rectangle from user and print if it is square or rectangle.\n",
    "length=int(input(\"Enter length\"))\n",
    "Breath=int(input(\"Enter Breath\"))\n",
    "\n",
    "if length==Breath:\n",
    "    print(\"it is square\")\n",
    "else:\n",
    "    print(\"it is rectangle\")\n",
    "\n"
   ]
  },
  {
   "cell_type": "code",
   "execution_count": 50,
   "id": "16bbc996-b1f6-4636-836d-8598d5bae89b",
   "metadata": {},
   "outputs": [
    {
     "name": "stdin",
     "output_type": "stream",
     "text": [
      "Enter any number 1\n",
      "Enter any number 1\n"
     ]
    },
    {
     "name": "stdout",
     "output_type": "stream",
     "text": [
      "both number are equal\n"
     ]
    }
   ],
   "source": [
    "#\"10) Take two int values from user and print greatest among them.\"\n",
    "in1=int(input(\"Enter any number\"))\n",
    "in2=int(input(\"Enter any number\"))\n",
    "\n",
    "if in1>in2:\n",
    "    print(in1)\n",
    "elif in2>in1:\n",
    "    print(in2)\n",
    "else:\n",
    "    print(\"both number are equal\")"
   ]
  },
  {
   "cell_type": "code",
   "execution_count": 52,
   "id": "ff3c8516-e447-4c09-b39f-3533b5dabc4f",
   "metadata": {},
   "outputs": [
    {
     "name": "stdin",
     "output_type": "stream",
     "text": [
      "Enter quantity: 10\n"
     ]
    },
    {
     "name": "stdout",
     "output_type": "stream",
     "text": [
      "purchased amount is less than 1000\n"
     ]
    }
   ],
   "source": [
    "#A shop will give discount of 10% if the cost of purchased quantity is more than 1000.\\n\",\n",
    "   # \"Ask user for quantity\\n\",\n",
    "   # \"Suppose, one unit will cost 100.\\n\",\n",
    "   # \"Judge and print total cost for user.\"\n",
    "quantity=int(input(\"Enter quantity:\"))\n",
    "cost_per_unit=100\n",
    "total_cost=quantity*cost_per_unit\n",
    "if total_cost>1000:\n",
    "    discount=total_cost*0.1\n",
    "    total_cost=total_cost-discount\n",
    "    print(\"total cost after discount is:\", total_cost)\n",
    "else:\n",
    "    print(\"purchased amount is less than 1000\")"
   ]
  },
  {
   "cell_type": "code",
   "execution_count": 53,
   "id": "1231a45c-00e6-487a-a795-7eee000e2546",
   "metadata": {},
   "outputs": [
    {
     "name": "stdin",
     "output_type": "stream",
     "text": [
      "Enter your marks:  26\n"
     ]
    },
    {
     "name": "stdout",
     "output_type": "stream",
     "text": [
      "Your Grade is: E\n"
     ]
    }
   ],
   "source": [
    "# Program to assign grade based on marks\n",
    "\n",
    "marks = int(input(\"Enter your marks: \"))\n",
    "\n",
    "if marks < 25:\n",
    "    grade = \"F\"\n",
    "elif marks >= 25 and marks < 45:\n",
    "    grade = \"E\"\n",
    "elif marks >= 45 and marks < 50:\n",
    "    grade = \"D\"\n",
    "elif marks >= 50 and marks < 60:\n",
    "    grade = \"C\"\n",
    "elif marks >= 60 and marks <= 80:\n",
    "    grade = \"B\"\n",
    "else:\n",
    "    grade = \"A\"\n",
    "\n",
    "print(\"Your Grade is:\", grade)\n"
   ]
  },
  {
   "cell_type": "code",
   "execution_count": 56,
   "id": "0c4ac917-8b8c-4b8d-a8ca-d7dfc75a31a8",
   "metadata": {},
   "outputs": [
    {
     "name": "stdin",
     "output_type": "stream",
     "text": [
      "Enter total number of classes held:  12\n",
      "Enter number of classes attended:  2\n"
     ]
    },
    {
     "name": "stdout",
     "output_type": "stream",
     "text": [
      "Attendance Percentage: 16.666666666666664 %\n",
      "Student is NOT allowed to sit in the exam\n"
     ]
    }
   ],
   "source": [
    "# Program to check exam eligibility based on attendance\n",
    "\n",
    "classes_held = int(input(\"Enter total number of classes held: \"))\n",
    "classes_attended = int(input(\"Enter number of classes attended: \"))\n",
    "\n",
    "# Calculate percentage\n",
    "attendance_percentage = (classes_attended / classes_held) * 100\n",
    "\n",
    "print(\"Attendance Percentage:\", attendance_percentage, \"%\")\n",
    "\n",
    "if attendance_percentage >= 75:\n",
    "    print(\"Student is allowed to sit in the exam\")\n",
    "else:\n",
    "    print(\"Student is NOT allowed to sit in the exam\")\n",
    "\n"
   ]
  },
  {
   "cell_type": "code",
   "execution_count": 57,
   "id": "86d5a6a3-151f-400e-ae07-827690b650dc",
   "metadata": {},
   "outputs": [
    {
     "name": "stdin",
     "output_type": "stream",
     "text": [
      "Enter total number of classes held:  12\n",
      "Enter number of classes attended:  2\n"
     ]
    },
    {
     "name": "stdout",
     "output_type": "stream",
     "text": [
      "Attendance Percentage: 16.666666666666664 %\n"
     ]
    },
    {
     "name": "stdin",
     "output_type": "stream",
     "text": [
      "Do you have a medical cause? (Y/N):  y\n"
     ]
    },
    {
     "name": "stdout",
     "output_type": "stream",
     "text": [
      "Student is allowed to sit in the exam due to medical cause\n"
     ]
    }
   ],
   "source": [
    "# Program to check exam eligibility with medical cause option\n",
    "\n",
    "classes_held = int(input(\"Enter total number of classes held: \"))\n",
    "classes_attended = int(input(\"Enter number of classes attended: \"))\n",
    "\n",
    "# Calculate percentage\n",
    "attendance_percentage = (classes_attended / classes_held) * 100\n",
    "\n",
    "print(\"Attendance Percentage:\", attendance_percentage, \"%\")\n",
    "\n",
    "if attendance_percentage >= 75:\n",
    "    print(\"Student is allowed to sit in the exam\")\n",
    "else:\n",
    "    medical_cause = input(\"Do you have a medical cause? (Y/N): \")\n",
    "    if medical_cause.upper() == \"Y\":\n",
    "        print(\"Student is allowed to sit in the exam due to medical cause\")\n",
    "    else:\n",
    "        print(\"Student is NOT allowed to sit in the exam\")\n"
   ]
  },
  {
   "cell_type": "code",
   "execution_count": 59,
   "id": "15b1072d-4e3c-4d1f-946b-089dd71314f1",
   "metadata": {},
   "outputs": [
    {
     "name": "stdin",
     "output_type": "stream",
     "text": [
      "Enter a year:  2020\n"
     ]
    },
    {
     "name": "stdout",
     "output_type": "stream",
     "text": [
      "2020 is a Leap Year\n"
     ]
    }
   ],
   "source": [
    "# Write a program to check if a year is leap year or not.\\n\",\n",
    "#    \"If a year is divisible by 4 then it is leap year but if the year is century year like 2000, 1900, 2100 then it must be divisible by 400.\"\n",
    "# Program to check Leap Year\n",
    "\n",
    "year = int(input(\"Enter a year: \"))\n",
    "\n",
    "if year % 400 == 0:\n",
    "    print(year, \"is a Leap Year\")\n",
    "elif year % 100 == 0:\n",
    "    print(year, \"is NOT a Leap Year\")\n",
    "elif year % 4 == 0:\n",
    "    print(year, \"is a Leap Year\")\n",
    "else:\n",
    "    print(year, \"is NOT a Leap Year\")\n"
   ]
  },
  {
   "cell_type": "code",
   "execution_count": null,
   "id": "84e43916-a866-4bfb-98de-41ee6c8b8885",
   "metadata": {},
   "outputs": [],
   "source": [
    "#Ask user to enter age, gender ( M or F ), marital status ( Y or N ) and then using following rules print their place of service.\\n\",\n",
    "#    \"if employee is female, then she will work only in urban areas.\\n\",\n",
    " #    \"if employee is a male and age is in between 20 to 40 then he may work in anywhere\\n\",\n",
    "  #    \"if employee is male and age is in between 40 t0 60 then he will work in urban areas only.\\n\",\n",
    "   #    \"And any other input of age should print \\\"ERROR\\\"\"age = int(input(\"Enter your age: \"))\n",
    "gender = input(\"Enter your gender (M/F): \")\n",
    "marital_status = input(\"Enter marital status (Y/N): \")  # Yeh input sirf question ki requirement ke liye hai\n",
    "\n",
    "if gender == \"F\":\n",
    "    print(\"She will work only in urban areas.\")\n",
    "elif gender == \"M\":\n",
    "    if 20 <= age <= 40:\n",
    "        print(\"He may work anywhere.\")\n",
    "    elif 40 < age <= 60:\n",
    "        print(\"He will work in urban areas only.\")\n",
    "    else:\n",
    "        print(\"ERROR\")\n",
    "else:\n",
    "    print(\"Invalid gender input!\")\n",
    "\n",
    "age = int(input(\"Enter your age: \"))\n",
    "gender = input(\"Enter your gender (M/F): \")\n",
    "marital_status = input(\"Enter marital status (Y/N): \")  # Yeh input sirf question ki requirement ke liye hai\n",
    "\n",
    "if gender == \"F\":\n",
    "    print(\"She will work only in urban areas.\")\n",
    "elif gender == \"M\":\n",
    "    if 20 <= age <= 40:\n",
    "        print(\"He may work anywhere.\")\n",
    "    elif 40 < age <= 60:\n",
    "        print(\"He will work in urban areas only.\")\n",
    "    else:\n",
    "        print(\"ERROR\")\n",
    "else:\n",
    "    print(\"Invalid gender input!\")\n",
    "\n"
   ]
  },
  {
   "cell_type": "code",
   "execution_count": null,
   "id": "a286415e-7bf7-497a-ac18-6f19027f5493",
   "metadata": {},
   "outputs": [],
   "source": [
    "  #  \"6) Write a program to calculate the electricity bill (accept number of unit from user) according to the following criteria :\\n\",\n",
    "  #  \"     Unit                                                     Price  \\n\",\n",
    "    #\"uptp 100 units                                             no charge\\n\",\n",
    "   # \"Next 200 units                                              Rs 5 per unit\\n\",\n",
    "   # \"After 200 units                                             Rs 10 per unit\\n\n",
    "units = int(input(\"Enter number of units: \"))\n",
    "bill = 0\n",
    "\n",
    "if units <= 100:\n",
    "    bill = 0\n",
    "elif units <= 300:  \n",
    "    # pehle 100 free hain, aglay (units - 100) * 5\n",
    "    bill = (units - 100) * 5\n",
    "else:\n",
    "    # pehle 100 free, next 200 * 5, aur baqi * 10\n",
    "    bill = (200 * 5) + (units - 300) * 10\n",
    "\n",
    "print(\"Total Electricity Bill = Rs\", bill)\n",
    "\n"
   ]
  },
  {
   "cell_type": "code",
   "execution_count": null,
   "id": "e971f8c0-17ad-4194-befd-6ecdc8173154",
   "metadata": {},
   "outputs": [],
   "source": [
    "age1 = int(input(\"Enter age of first person: \"))\n",
    "age2 = int(input(\"Enter age of second person: \"))\n",
    "age3 = int(input(\"Enter age of third person: \"))\n",
    "\n",
    "# Oldest\n",
    "if age1 >= age2 and age1 >= age3:\n",
    "    oldest = age1\n",
    "elif age2 >= age1 and age2 >= age3:\n",
    "    oldest = age2\n",
    "else:\n",
    "    oldest = age3\n",
    "\n",
    "# Youngest\n",
    "if age1 <= age2 and age1 <= age3:\n",
    "    youngest = age1\n",
    "elif age2 <= age1 and age2 <= age3:\n",
    "    youngest = age2\n",
    "else:\n",
    "    youngest = age3\n",
    "\n",
    "print(\"Oldest age is:\", oldest)\n",
    "print(\"Youngest age is:\", youngest)\n"
   ]
  }
 ],
 "metadata": {
  "kernelspec": {
   "display_name": "Python 3 (ipykernel)",
   "language": "python",
   "name": "python3"
  },
  "language_info": {
   "codemirror_mode": {
    "name": "ipython",
    "version": 3
   },
   "file_extension": ".py",
   "mimetype": "text/x-python",
   "name": "python",
   "nbconvert_exporter": "python",
   "pygments_lexer": "ipython3",
   "version": "3.13.5"
  }
 },
 "nbformat": 4,
 "nbformat_minor": 5
}
